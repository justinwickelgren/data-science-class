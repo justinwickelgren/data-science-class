{
  "nbformat": 4,
  "nbformat_minor": 0,
  "metadata": {
    "colab": {
      "provenance": [],
      "authorship_tag": "ABX9TyNRG96JQJiKvMdr6rjrpZov",
      "include_colab_link": true
    },
    "kernelspec": {
      "name": "python3",
      "display_name": "Python 3"
    },
    "language_info": {
      "name": "python"
    },
    "widgets": {
      "application/vnd.jupyter.widget-state+json": {
        "98df27e6dc4b4a20adbe25fb5a32b260": {
          "model_module": "@jupyter-widgets/output",
          "model_name": "OutputModel",
          "model_module_version": "1.0.0",
          "state": {
            "_dom_classes": [],
            "_model_module": "@jupyter-widgets/output",
            "_model_module_version": "1.0.0",
            "_model_name": "OutputModel",
            "_view_count": null,
            "_view_module": "@jupyter-widgets/output",
            "_view_module_version": "1.0.0",
            "_view_name": "OutputView",
            "layout": "IPY_MODEL_bed42352b0c24e8e85e60d00d1addff5",
            "msg_id": "",
            "outputs": [
              {
                "output_type": "display_data",
                "data": {
                  "text/plain": "Sampling chain 0, 0 divergences \u001b[32m━━━━━━━━━━━━━━━━━━━━━━━━━━━━━━━━━━━━━━━━\u001b[0m \u001b[35m100%\u001b[0m \u001b[36m0:00:00\u001b[0m / \u001b[33m0:00:09\u001b[0m\n",
                  "text/html": "<pre style=\"white-space:pre;overflow-x:auto;line-height:normal;font-family:Menlo,'DejaVu Sans Mono',consolas,'Courier New',monospace\">Sampling chain 0, 0 divergences <span style=\"color: #008000; text-decoration-color: #008000\">━━━━━━━━━━━━━━━━━━━━━━━━━━━━━━━━━━━━━━━━</span> <span style=\"color: #800080; text-decoration-color: #800080\">100%</span> <span style=\"color: #008080; text-decoration-color: #008080\">0:00:00</span> / <span style=\"color: #808000; text-decoration-color: #808000\">0:00:09</span>\n</pre>\n"
                },
                "metadata": {}
              }
            ]
          }
        },
        "bed42352b0c24e8e85e60d00d1addff5": {
          "model_module": "@jupyter-widgets/base",
          "model_name": "LayoutModel",
          "model_module_version": "1.2.0",
          "state": {
            "_model_module": "@jupyter-widgets/base",
            "_model_module_version": "1.2.0",
            "_model_name": "LayoutModel",
            "_view_count": null,
            "_view_module": "@jupyter-widgets/base",
            "_view_module_version": "1.2.0",
            "_view_name": "LayoutView",
            "align_content": null,
            "align_items": null,
            "align_self": null,
            "border": null,
            "bottom": null,
            "display": null,
            "flex": null,
            "flex_flow": null,
            "grid_area": null,
            "grid_auto_columns": null,
            "grid_auto_flow": null,
            "grid_auto_rows": null,
            "grid_column": null,
            "grid_gap": null,
            "grid_row": null,
            "grid_template_areas": null,
            "grid_template_columns": null,
            "grid_template_rows": null,
            "height": null,
            "justify_content": null,
            "justify_items": null,
            "left": null,
            "margin": null,
            "max_height": null,
            "max_width": null,
            "min_height": null,
            "min_width": null,
            "object_fit": null,
            "object_position": null,
            "order": null,
            "overflow": null,
            "overflow_x": null,
            "overflow_y": null,
            "padding": null,
            "right": null,
            "top": null,
            "visibility": null,
            "width": null
          }
        },
        "fddd5d3feb5d447b8f550da4bc6bb392": {
          "model_module": "@jupyter-widgets/output",
          "model_name": "OutputModel",
          "model_module_version": "1.0.0",
          "state": {
            "_dom_classes": [],
            "_model_module": "@jupyter-widgets/output",
            "_model_module_version": "1.0.0",
            "_model_name": "OutputModel",
            "_view_count": null,
            "_view_module": "@jupyter-widgets/output",
            "_view_module_version": "1.0.0",
            "_view_name": "OutputView",
            "layout": "IPY_MODEL_92011090dd05416992f96904719560da",
            "msg_id": "",
            "outputs": [
              {
                "output_type": "display_data",
                "data": {
                  "text/plain": "Sampling chain 1, 0 divergences \u001b[32m━━━━━━━━━━━━━━━━━━━━━━━━━━━━━━━━━━━━━━━━\u001b[0m \u001b[35m100%\u001b[0m \u001b[36m0:00:00\u001b[0m / \u001b[33m0:00:12\u001b[0m\n",
                  "text/html": "<pre style=\"white-space:pre;overflow-x:auto;line-height:normal;font-family:Menlo,'DejaVu Sans Mono',consolas,'Courier New',monospace\">Sampling chain 1, 0 divergences <span style=\"color: #008000; text-decoration-color: #008000\">━━━━━━━━━━━━━━━━━━━━━━━━━━━━━━━━━━━━━━━━</span> <span style=\"color: #800080; text-decoration-color: #800080\">100%</span> <span style=\"color: #008080; text-decoration-color: #008080\">0:00:00</span> / <span style=\"color: #808000; text-decoration-color: #808000\">0:00:12</span>\n</pre>\n"
                },
                "metadata": {}
              }
            ]
          }
        },
        "92011090dd05416992f96904719560da": {
          "model_module": "@jupyter-widgets/base",
          "model_name": "LayoutModel",
          "model_module_version": "1.2.0",
          "state": {
            "_model_module": "@jupyter-widgets/base",
            "_model_module_version": "1.2.0",
            "_model_name": "LayoutModel",
            "_view_count": null,
            "_view_module": "@jupyter-widgets/base",
            "_view_module_version": "1.2.0",
            "_view_name": "LayoutView",
            "align_content": null,
            "align_items": null,
            "align_self": null,
            "border": null,
            "bottom": null,
            "display": null,
            "flex": null,
            "flex_flow": null,
            "grid_area": null,
            "grid_auto_columns": null,
            "grid_auto_flow": null,
            "grid_auto_rows": null,
            "grid_column": null,
            "grid_gap": null,
            "grid_row": null,
            "grid_template_areas": null,
            "grid_template_columns": null,
            "grid_template_rows": null,
            "height": null,
            "justify_content": null,
            "justify_items": null,
            "left": null,
            "margin": null,
            "max_height": null,
            "max_width": null,
            "min_height": null,
            "min_width": null,
            "object_fit": null,
            "object_position": null,
            "order": null,
            "overflow": null,
            "overflow_x": null,
            "overflow_y": null,
            "padding": null,
            "right": null,
            "top": null,
            "visibility": null,
            "width": null
          }
        },
        "209bf3a0595546faba3b9303955a9863": {
          "model_module": "@jupyter-widgets/output",
          "model_name": "OutputModel",
          "model_module_version": "1.0.0",
          "state": {
            "_dom_classes": [],
            "_model_module": "@jupyter-widgets/output",
            "_model_module_version": "1.0.0",
            "_model_name": "OutputModel",
            "_view_count": null,
            "_view_module": "@jupyter-widgets/output",
            "_view_module_version": "1.0.0",
            "_view_name": "OutputView",
            "layout": "IPY_MODEL_f3e34cc6f8de4a0da3c75b6262d10c6f",
            "msg_id": "",
            "outputs": [
              {
                "output_type": "display_data",
                "data": {
                  "text/plain": "Sampling ... \u001b[32m━━━━━━━━━━━━━━━━━━━━━━━━━━━━━━━━━━━━━━━━\u001b[0m \u001b[35m100%\u001b[0m \u001b[36m0:00:00\u001b[0m / \u001b[33m0:00:00\u001b[0m\n",
                  "text/html": "<pre style=\"white-space:pre;overflow-x:auto;line-height:normal;font-family:Menlo,'DejaVu Sans Mono',consolas,'Courier New',monospace\">Sampling ... <span style=\"color: #008000; text-decoration-color: #008000\">━━━━━━━━━━━━━━━━━━━━━━━━━━━━━━━━━━━━━━━━</span> <span style=\"color: #800080; text-decoration-color: #800080\">100%</span> <span style=\"color: #008080; text-decoration-color: #008080\">0:00:00</span> / <span style=\"color: #808000; text-decoration-color: #808000\">0:00:00</span>\n</pre>\n"
                },
                "metadata": {}
              }
            ]
          }
        },
        "f3e34cc6f8de4a0da3c75b6262d10c6f": {
          "model_module": "@jupyter-widgets/base",
          "model_name": "LayoutModel",
          "model_module_version": "1.2.0",
          "state": {
            "_model_module": "@jupyter-widgets/base",
            "_model_module_version": "1.2.0",
            "_model_name": "LayoutModel",
            "_view_count": null,
            "_view_module": "@jupyter-widgets/base",
            "_view_module_version": "1.2.0",
            "_view_name": "LayoutView",
            "align_content": null,
            "align_items": null,
            "align_self": null,
            "border": null,
            "bottom": null,
            "display": null,
            "flex": null,
            "flex_flow": null,
            "grid_area": null,
            "grid_auto_columns": null,
            "grid_auto_flow": null,
            "grid_auto_rows": null,
            "grid_column": null,
            "grid_gap": null,
            "grid_row": null,
            "grid_template_areas": null,
            "grid_template_columns": null,
            "grid_template_rows": null,
            "height": null,
            "justify_content": null,
            "justify_items": null,
            "left": null,
            "margin": null,
            "max_height": null,
            "max_width": null,
            "min_height": null,
            "min_width": null,
            "object_fit": null,
            "object_position": null,
            "order": null,
            "overflow": null,
            "overflow_x": null,
            "overflow_y": null,
            "padding": null,
            "right": null,
            "top": null,
            "visibility": null,
            "width": null
          }
        },
        "4b0cc514c0944c00a9f98d232543955c": {
          "model_module": "@jupyter-widgets/output",
          "model_name": "OutputModel",
          "model_module_version": "1.0.0",
          "state": {
            "_dom_classes": [],
            "_model_module": "@jupyter-widgets/output",
            "_model_module_version": "1.0.0",
            "_model_name": "OutputModel",
            "_view_count": null,
            "_view_module": "@jupyter-widgets/output",
            "_view_module_version": "1.0.0",
            "_view_name": "OutputView",
            "layout": "IPY_MODEL_36279e5007474a9986d52c9b11d0d008",
            "msg_id": "",
            "outputs": [
              {
                "output_type": "display_data",
                "data": {
                  "text/plain": "Sampling chain 0, 0 divergences \u001b[32m━━━━━━━━━━━━━━━━━━━━━━━━━━━━━━━━━━━━━━━━\u001b[0m \u001b[35m100%\u001b[0m \u001b[36m0:00:00\u001b[0m / \u001b[33m0:00:27\u001b[0m\n",
                  "text/html": "<pre style=\"white-space:pre;overflow-x:auto;line-height:normal;font-family:Menlo,'DejaVu Sans Mono',consolas,'Courier New',monospace\">Sampling chain 0, 0 divergences <span style=\"color: #008000; text-decoration-color: #008000\">━━━━━━━━━━━━━━━━━━━━━━━━━━━━━━━━━━━━━━━━</span> <span style=\"color: #800080; text-decoration-color: #800080\">100%</span> <span style=\"color: #008080; text-decoration-color: #008080\">0:00:00</span> / <span style=\"color: #808000; text-decoration-color: #808000\">0:00:27</span>\n</pre>\n"
                },
                "metadata": {}
              }
            ]
          }
        },
        "36279e5007474a9986d52c9b11d0d008": {
          "model_module": "@jupyter-widgets/base",
          "model_name": "LayoutModel",
          "model_module_version": "1.2.0",
          "state": {
            "_model_module": "@jupyter-widgets/base",
            "_model_module_version": "1.2.0",
            "_model_name": "LayoutModel",
            "_view_count": null,
            "_view_module": "@jupyter-widgets/base",
            "_view_module_version": "1.2.0",
            "_view_name": "LayoutView",
            "align_content": null,
            "align_items": null,
            "align_self": null,
            "border": null,
            "bottom": null,
            "display": null,
            "flex": null,
            "flex_flow": null,
            "grid_area": null,
            "grid_auto_columns": null,
            "grid_auto_flow": null,
            "grid_auto_rows": null,
            "grid_column": null,
            "grid_gap": null,
            "grid_row": null,
            "grid_template_areas": null,
            "grid_template_columns": null,
            "grid_template_rows": null,
            "height": null,
            "justify_content": null,
            "justify_items": null,
            "left": null,
            "margin": null,
            "max_height": null,
            "max_width": null,
            "min_height": null,
            "min_width": null,
            "object_fit": null,
            "object_position": null,
            "order": null,
            "overflow": null,
            "overflow_x": null,
            "overflow_y": null,
            "padding": null,
            "right": null,
            "top": null,
            "visibility": null,
            "width": null
          }
        },
        "2f8a373dd3c74512b0b5af10b18170f0": {
          "model_module": "@jupyter-widgets/output",
          "model_name": "OutputModel",
          "model_module_version": "1.0.0",
          "state": {
            "_dom_classes": [],
            "_model_module": "@jupyter-widgets/output",
            "_model_module_version": "1.0.0",
            "_model_name": "OutputModel",
            "_view_count": null,
            "_view_module": "@jupyter-widgets/output",
            "_view_module_version": "1.0.0",
            "_view_name": "OutputView",
            "layout": "IPY_MODEL_3eaa4a6953d540bdbf52e2c6b7091228",
            "msg_id": "",
            "outputs": [
              {
                "output_type": "display_data",
                "data": {
                  "text/plain": "Sampling chain 1, 0 divergences \u001b[32m━━━━━━━━━━━━━━━━━━━━━━━━━━━━━━━━━━━━━━━━\u001b[0m \u001b[35m100%\u001b[0m \u001b[36m0:00:00\u001b[0m / \u001b[33m0:00:28\u001b[0m\n",
                  "text/html": "<pre style=\"white-space:pre;overflow-x:auto;line-height:normal;font-family:Menlo,'DejaVu Sans Mono',consolas,'Courier New',monospace\">Sampling chain 1, 0 divergences <span style=\"color: #008000; text-decoration-color: #008000\">━━━━━━━━━━━━━━━━━━━━━━━━━━━━━━━━━━━━━━━━</span> <span style=\"color: #800080; text-decoration-color: #800080\">100%</span> <span style=\"color: #008080; text-decoration-color: #008080\">0:00:00</span> / <span style=\"color: #808000; text-decoration-color: #808000\">0:00:28</span>\n</pre>\n"
                },
                "metadata": {}
              }
            ]
          }
        },
        "3eaa4a6953d540bdbf52e2c6b7091228": {
          "model_module": "@jupyter-widgets/base",
          "model_name": "LayoutModel",
          "model_module_version": "1.2.0",
          "state": {
            "_model_module": "@jupyter-widgets/base",
            "_model_module_version": "1.2.0",
            "_model_name": "LayoutModel",
            "_view_count": null,
            "_view_module": "@jupyter-widgets/base",
            "_view_module_version": "1.2.0",
            "_view_name": "LayoutView",
            "align_content": null,
            "align_items": null,
            "align_self": null,
            "border": null,
            "bottom": null,
            "display": null,
            "flex": null,
            "flex_flow": null,
            "grid_area": null,
            "grid_auto_columns": null,
            "grid_auto_flow": null,
            "grid_auto_rows": null,
            "grid_column": null,
            "grid_gap": null,
            "grid_row": null,
            "grid_template_areas": null,
            "grid_template_columns": null,
            "grid_template_rows": null,
            "height": null,
            "justify_content": null,
            "justify_items": null,
            "left": null,
            "margin": null,
            "max_height": null,
            "max_width": null,
            "min_height": null,
            "min_width": null,
            "object_fit": null,
            "object_position": null,
            "order": null,
            "overflow": null,
            "overflow_x": null,
            "overflow_y": null,
            "padding": null,
            "right": null,
            "top": null,
            "visibility": null,
            "width": null
          }
        },
        "8f26ddcbafca4fce99a752faaa9655ee": {
          "model_module": "@jupyter-widgets/output",
          "model_name": "OutputModel",
          "model_module_version": "1.0.0",
          "state": {
            "_dom_classes": [],
            "_model_module": "@jupyter-widgets/output",
            "_model_module_version": "1.0.0",
            "_model_name": "OutputModel",
            "_view_count": null,
            "_view_module": "@jupyter-widgets/output",
            "_view_module_version": "1.0.0",
            "_view_name": "OutputView",
            "layout": "IPY_MODEL_12bebdd3eed74bfa9b60e1e1cbeddb3c",
            "msg_id": "",
            "outputs": [
              {
                "output_type": "display_data",
                "data": {
                  "text/plain": "Sampling ... \u001b[32m━━━━━━━━━━━━━━━━━━━━━━━━━━━━━━━━━━━━━━━━\u001b[0m \u001b[35m100%\u001b[0m \u001b[36m0:00:00\u001b[0m / \u001b[33m0:00:00\u001b[0m\n",
                  "text/html": "<pre style=\"white-space:pre;overflow-x:auto;line-height:normal;font-family:Menlo,'DejaVu Sans Mono',consolas,'Courier New',monospace\">Sampling ... <span style=\"color: #008000; text-decoration-color: #008000\">━━━━━━━━━━━━━━━━━━━━━━━━━━━━━━━━━━━━━━━━</span> <span style=\"color: #800080; text-decoration-color: #800080\">100%</span> <span style=\"color: #008080; text-decoration-color: #008080\">0:00:00</span> / <span style=\"color: #808000; text-decoration-color: #808000\">0:00:00</span>\n</pre>\n"
                },
                "metadata": {}
              }
            ]
          }
        },
        "12bebdd3eed74bfa9b60e1e1cbeddb3c": {
          "model_module": "@jupyter-widgets/base",
          "model_name": "LayoutModel",
          "model_module_version": "1.2.0",
          "state": {
            "_model_module": "@jupyter-widgets/base",
            "_model_module_version": "1.2.0",
            "_model_name": "LayoutModel",
            "_view_count": null,
            "_view_module": "@jupyter-widgets/base",
            "_view_module_version": "1.2.0",
            "_view_name": "LayoutView",
            "align_content": null,
            "align_items": null,
            "align_self": null,
            "border": null,
            "bottom": null,
            "display": null,
            "flex": null,
            "flex_flow": null,
            "grid_area": null,
            "grid_auto_columns": null,
            "grid_auto_flow": null,
            "grid_auto_rows": null,
            "grid_column": null,
            "grid_gap": null,
            "grid_row": null,
            "grid_template_areas": null,
            "grid_template_columns": null,
            "grid_template_rows": null,
            "height": null,
            "justify_content": null,
            "justify_items": null,
            "left": null,
            "margin": null,
            "max_height": null,
            "max_width": null,
            "min_height": null,
            "min_width": null,
            "object_fit": null,
            "object_position": null,
            "order": null,
            "overflow": null,
            "overflow_x": null,
            "overflow_y": null,
            "padding": null,
            "right": null,
            "top": null,
            "visibility": null,
            "width": null
          }
        }
      }
    }
  },
  "cells": [
    {
      "cell_type": "markdown",
      "metadata": {
        "id": "view-in-github",
        "colab_type": "text"
      },
      "source": [
        "<a href=\"https://colab.research.google.com/github/justinwickelgren/data-science-class/blob/main/JustWickU5Proj.ipynb\" target=\"_parent\"><img src=\"https://colab.research.google.com/assets/colab-badge.svg\" alt=\"Open In Colab\"/></a>"
      ]
    },
    {
      "cell_type": "code",
      "execution_count": 31,
      "metadata": {
        "id": "vTznE8dG3Yy6"
      },
      "outputs": [],
      "source": [
        "import numpy as np\n",
        "from matplotlib import pyplot as plt\n",
        "import seaborn as sns\n",
        "import pandas as pd\n",
        "import arviz as az\n",
        "import xarray as xr\n",
        "import pymc as pm\n",
        "from scipy.interpolate import PchipInterpolator"
      ]
    },
    {
      "cell_type": "markdown",
      "source": [
        "# Australian Port Emisssions\n",
        "\n",
        "This project uses a University of Florida data set of emissions, fuel consumption, and berth visits (number of ships) for several Australian ports. It will attempt to model the relationship between the number of berth visits at each port and CO<sub>2</sub> equivalent emissions. This is interesting to me because I am curious whether ports with more ships are likely to have larger ships or not. If they have larger ships, I would expect the best model to have a positive second derivative; if there is no relation between number of ships and size of ships, it will have a zero second derivative; and if the correlation between number of ships and ship size is negative, it will have a negative second derivative."
      ],
      "metadata": {
        "id": "ekKClNYrRdj9"
      }
    },
    {
      "cell_type": "code",
      "source": [
        "url = \"https://users.stat.ufl.edu/~winner/data/ship_emissions2.csv\"\n",
        "port_emissions = pd.read_csv(url)\n",
        "port_emissions"
      ],
      "metadata": {
        "colab": {
          "base_uri": "https://localhost:8080/",
          "height": 1000
        },
        "id": "cWSEcT2J75YU",
        "outputId": "392bdaba-64e2-4c96-a778-aa9f0867e787"
      },
      "execution_count": 32,
      "outputs": [
        {
          "output_type": "execute_result",
          "data": {
            "text/plain": [
              "             Port   Fuel  NO_x  SO_2  PM_10  PM_2.5  VOC   CO   PAH   CO_2e  \\\n",
              "0       Melbourne  76383  4375  3940    478     440   99  277  1.45  247618   \n",
              "1         Dampier  62287  3131  2869    343     315   87  262  1.09  201753   \n",
              "2        Brisbane  60752  3140  3045    362     333   75  192  1.11  197155   \n",
              "3       Hay Point  40352  1896  2113    245     225   60  164  0.74  130725   \n",
              "4       Fremantle  38135  1597  1798    204     187   46  127  0.64  123790   \n",
              "5    Port Hedland  24215  1246  1088    131     121   36  103  0.43   78397   \n",
              "6          Botany  19535   698  1022    112     103   23   62  0.34   63454   \n",
              "7       Gladstone  15127   801   709     85      78   21   58  0.27   49021   \n",
              "8    Port Jackson  12831   585   403     47      44   13   50  0.19   41465   \n",
              "9       Newcastle  12499   588   555     65      60   17   52  0.21   40492   \n",
              "10        Geelong   9366   300   461     49      45    9   23  0.15   30482   \n",
              "11    Port Kembla   8812   401   442     51      47   12   34  0.16   28565   \n",
              "12   Port Walcott   8020   400   411     49      45   12   36  0.15   25954   \n",
              "13       Adelaide   7877   339   375     43      39   10   28  0.13   25560   \n",
              "14         Darwin   6085   287   234     28      25    8   25  0.10   19716   \n",
              "15      Devonport   5632   314   293     34      32    8   24  0.10   18242   \n",
              "16        Bunbury   3440   149   158     18      17    5   13  0.06   11156   \n",
              "17     Townsville   3266   144   144     17      15    4   12  0.05   10595   \n",
              "18          Weipa   3147   164   149     18      16    4   13  0.06   10198   \n",
              "19         Mackay   2373   101   107     12      11    3    9  0.04    7698   \n",
              "20      Geraldton   2371   109   107     12      11    3    9  0.04    7688   \n",
              "21    Abbot Point   2059   105    95     11      10    3    9  0.04    6671   \n",
              "22         Burnie   1808    97    91     11      10    3    8  0.03    5855   \n",
              "23       Portland   1792    78    76      9       8    2    7  0.03    5815   \n",
              "24     Launceston   1645    77    72      8       8    2    6  0.03    5334   \n",
              "25       Hastings   1620    75    75      9       8    2    6  0.03    5258   \n",
              "26         Albany   1158    55    54      6       6    2    5  0.02    3754   \n",
              "27   Port Lincoln   1151    51    58      6       6    2    4  0.02    3734   \n",
              "28         Hobart    871    44    37      4       4    1    4  0.01    2821   \n",
              "29      Thevenard    703    33    32      4       3    1    3  0.01    2282   \n",
              "30         Broome    539    26    23      3       3    1    2  0.01    1744   \n",
              "31  Cape Flattery    506    28    26      3       3    1    2  0.01    1638   \n",
              "32      Esperance    445    18    22      2       2    1    2  0.01    1445   \n",
              "33      Port Alma    413    17    14      2       1    0    1  0.01    1341   \n",
              "\n",
              "    BerthVisits  \n",
              "0          3065  \n",
              "1          3821  \n",
              "2          2271  \n",
              "3           841  \n",
              "4          1633  \n",
              "5          1357  \n",
              "6          1345  \n",
              "7          1243  \n",
              "8           278  \n",
              "9          1703  \n",
              "10          542  \n",
              "11          961  \n",
              "12          495  \n",
              "13         1013  \n",
              "14          817  \n",
              "15          605  \n",
              "16          389  \n",
              "17          492  \n",
              "18          406  \n",
              "19          166  \n",
              "20          327  \n",
              "21          177  \n",
              "22          329  \n",
              "23          261  \n",
              "24          215  \n",
              "25          129  \n",
              "26          107  \n",
              "27          114  \n",
              "28           51  \n",
              "29          123  \n",
              "30          193  \n",
              "31           40  \n",
              "32           32  \n",
              "33           75  "
            ],
            "text/html": [
              "\n",
              "  <div id=\"df-4df076f5-0d34-47bd-a890-e4b43c1310dc\" class=\"colab-df-container\">\n",
              "    <div>\n",
              "<style scoped>\n",
              "    .dataframe tbody tr th:only-of-type {\n",
              "        vertical-align: middle;\n",
              "    }\n",
              "\n",
              "    .dataframe tbody tr th {\n",
              "        vertical-align: top;\n",
              "    }\n",
              "\n",
              "    .dataframe thead th {\n",
              "        text-align: right;\n",
              "    }\n",
              "</style>\n",
              "<table border=\"1\" class=\"dataframe\">\n",
              "  <thead>\n",
              "    <tr style=\"text-align: right;\">\n",
              "      <th></th>\n",
              "      <th>Port</th>\n",
              "      <th>Fuel</th>\n",
              "      <th>NO_x</th>\n",
              "      <th>SO_2</th>\n",
              "      <th>PM_10</th>\n",
              "      <th>PM_2.5</th>\n",
              "      <th>VOC</th>\n",
              "      <th>CO</th>\n",
              "      <th>PAH</th>\n",
              "      <th>CO_2e</th>\n",
              "      <th>BerthVisits</th>\n",
              "    </tr>\n",
              "  </thead>\n",
              "  <tbody>\n",
              "    <tr>\n",
              "      <th>0</th>\n",
              "      <td>Melbourne</td>\n",
              "      <td>76383</td>\n",
              "      <td>4375</td>\n",
              "      <td>3940</td>\n",
              "      <td>478</td>\n",
              "      <td>440</td>\n",
              "      <td>99</td>\n",
              "      <td>277</td>\n",
              "      <td>1.45</td>\n",
              "      <td>247618</td>\n",
              "      <td>3065</td>\n",
              "    </tr>\n",
              "    <tr>\n",
              "      <th>1</th>\n",
              "      <td>Dampier</td>\n",
              "      <td>62287</td>\n",
              "      <td>3131</td>\n",
              "      <td>2869</td>\n",
              "      <td>343</td>\n",
              "      <td>315</td>\n",
              "      <td>87</td>\n",
              "      <td>262</td>\n",
              "      <td>1.09</td>\n",
              "      <td>201753</td>\n",
              "      <td>3821</td>\n",
              "    </tr>\n",
              "    <tr>\n",
              "      <th>2</th>\n",
              "      <td>Brisbane</td>\n",
              "      <td>60752</td>\n",
              "      <td>3140</td>\n",
              "      <td>3045</td>\n",
              "      <td>362</td>\n",
              "      <td>333</td>\n",
              "      <td>75</td>\n",
              "      <td>192</td>\n",
              "      <td>1.11</td>\n",
              "      <td>197155</td>\n",
              "      <td>2271</td>\n",
              "    </tr>\n",
              "    <tr>\n",
              "      <th>3</th>\n",
              "      <td>Hay Point</td>\n",
              "      <td>40352</td>\n",
              "      <td>1896</td>\n",
              "      <td>2113</td>\n",
              "      <td>245</td>\n",
              "      <td>225</td>\n",
              "      <td>60</td>\n",
              "      <td>164</td>\n",
              "      <td>0.74</td>\n",
              "      <td>130725</td>\n",
              "      <td>841</td>\n",
              "    </tr>\n",
              "    <tr>\n",
              "      <th>4</th>\n",
              "      <td>Fremantle</td>\n",
              "      <td>38135</td>\n",
              "      <td>1597</td>\n",
              "      <td>1798</td>\n",
              "      <td>204</td>\n",
              "      <td>187</td>\n",
              "      <td>46</td>\n",
              "      <td>127</td>\n",
              "      <td>0.64</td>\n",
              "      <td>123790</td>\n",
              "      <td>1633</td>\n",
              "    </tr>\n",
              "    <tr>\n",
              "      <th>5</th>\n",
              "      <td>Port Hedland</td>\n",
              "      <td>24215</td>\n",
              "      <td>1246</td>\n",
              "      <td>1088</td>\n",
              "      <td>131</td>\n",
              "      <td>121</td>\n",
              "      <td>36</td>\n",
              "      <td>103</td>\n",
              "      <td>0.43</td>\n",
              "      <td>78397</td>\n",
              "      <td>1357</td>\n",
              "    </tr>\n",
              "    <tr>\n",
              "      <th>6</th>\n",
              "      <td>Botany</td>\n",
              "      <td>19535</td>\n",
              "      <td>698</td>\n",
              "      <td>1022</td>\n",
              "      <td>112</td>\n",
              "      <td>103</td>\n",
              "      <td>23</td>\n",
              "      <td>62</td>\n",
              "      <td>0.34</td>\n",
              "      <td>63454</td>\n",
              "      <td>1345</td>\n",
              "    </tr>\n",
              "    <tr>\n",
              "      <th>7</th>\n",
              "      <td>Gladstone</td>\n",
              "      <td>15127</td>\n",
              "      <td>801</td>\n",
              "      <td>709</td>\n",
              "      <td>85</td>\n",
              "      <td>78</td>\n",
              "      <td>21</td>\n",
              "      <td>58</td>\n",
              "      <td>0.27</td>\n",
              "      <td>49021</td>\n",
              "      <td>1243</td>\n",
              "    </tr>\n",
              "    <tr>\n",
              "      <th>8</th>\n",
              "      <td>Port Jackson</td>\n",
              "      <td>12831</td>\n",
              "      <td>585</td>\n",
              "      <td>403</td>\n",
              "      <td>47</td>\n",
              "      <td>44</td>\n",
              "      <td>13</td>\n",
              "      <td>50</td>\n",
              "      <td>0.19</td>\n",
              "      <td>41465</td>\n",
              "      <td>278</td>\n",
              "    </tr>\n",
              "    <tr>\n",
              "      <th>9</th>\n",
              "      <td>Newcastle</td>\n",
              "      <td>12499</td>\n",
              "      <td>588</td>\n",
              "      <td>555</td>\n",
              "      <td>65</td>\n",
              "      <td>60</td>\n",
              "      <td>17</td>\n",
              "      <td>52</td>\n",
              "      <td>0.21</td>\n",
              "      <td>40492</td>\n",
              "      <td>1703</td>\n",
              "    </tr>\n",
              "    <tr>\n",
              "      <th>10</th>\n",
              "      <td>Geelong</td>\n",
              "      <td>9366</td>\n",
              "      <td>300</td>\n",
              "      <td>461</td>\n",
              "      <td>49</td>\n",
              "      <td>45</td>\n",
              "      <td>9</td>\n",
              "      <td>23</td>\n",
              "      <td>0.15</td>\n",
              "      <td>30482</td>\n",
              "      <td>542</td>\n",
              "    </tr>\n",
              "    <tr>\n",
              "      <th>11</th>\n",
              "      <td>Port Kembla</td>\n",
              "      <td>8812</td>\n",
              "      <td>401</td>\n",
              "      <td>442</td>\n",
              "      <td>51</td>\n",
              "      <td>47</td>\n",
              "      <td>12</td>\n",
              "      <td>34</td>\n",
              "      <td>0.16</td>\n",
              "      <td>28565</td>\n",
              "      <td>961</td>\n",
              "    </tr>\n",
              "    <tr>\n",
              "      <th>12</th>\n",
              "      <td>Port Walcott</td>\n",
              "      <td>8020</td>\n",
              "      <td>400</td>\n",
              "      <td>411</td>\n",
              "      <td>49</td>\n",
              "      <td>45</td>\n",
              "      <td>12</td>\n",
              "      <td>36</td>\n",
              "      <td>0.15</td>\n",
              "      <td>25954</td>\n",
              "      <td>495</td>\n",
              "    </tr>\n",
              "    <tr>\n",
              "      <th>13</th>\n",
              "      <td>Adelaide</td>\n",
              "      <td>7877</td>\n",
              "      <td>339</td>\n",
              "      <td>375</td>\n",
              "      <td>43</td>\n",
              "      <td>39</td>\n",
              "      <td>10</td>\n",
              "      <td>28</td>\n",
              "      <td>0.13</td>\n",
              "      <td>25560</td>\n",
              "      <td>1013</td>\n",
              "    </tr>\n",
              "    <tr>\n",
              "      <th>14</th>\n",
              "      <td>Darwin</td>\n",
              "      <td>6085</td>\n",
              "      <td>287</td>\n",
              "      <td>234</td>\n",
              "      <td>28</td>\n",
              "      <td>25</td>\n",
              "      <td>8</td>\n",
              "      <td>25</td>\n",
              "      <td>0.10</td>\n",
              "      <td>19716</td>\n",
              "      <td>817</td>\n",
              "    </tr>\n",
              "    <tr>\n",
              "      <th>15</th>\n",
              "      <td>Devonport</td>\n",
              "      <td>5632</td>\n",
              "      <td>314</td>\n",
              "      <td>293</td>\n",
              "      <td>34</td>\n",
              "      <td>32</td>\n",
              "      <td>8</td>\n",
              "      <td>24</td>\n",
              "      <td>0.10</td>\n",
              "      <td>18242</td>\n",
              "      <td>605</td>\n",
              "    </tr>\n",
              "    <tr>\n",
              "      <th>16</th>\n",
              "      <td>Bunbury</td>\n",
              "      <td>3440</td>\n",
              "      <td>149</td>\n",
              "      <td>158</td>\n",
              "      <td>18</td>\n",
              "      <td>17</td>\n",
              "      <td>5</td>\n",
              "      <td>13</td>\n",
              "      <td>0.06</td>\n",
              "      <td>11156</td>\n",
              "      <td>389</td>\n",
              "    </tr>\n",
              "    <tr>\n",
              "      <th>17</th>\n",
              "      <td>Townsville</td>\n",
              "      <td>3266</td>\n",
              "      <td>144</td>\n",
              "      <td>144</td>\n",
              "      <td>17</td>\n",
              "      <td>15</td>\n",
              "      <td>4</td>\n",
              "      <td>12</td>\n",
              "      <td>0.05</td>\n",
              "      <td>10595</td>\n",
              "      <td>492</td>\n",
              "    </tr>\n",
              "    <tr>\n",
              "      <th>18</th>\n",
              "      <td>Weipa</td>\n",
              "      <td>3147</td>\n",
              "      <td>164</td>\n",
              "      <td>149</td>\n",
              "      <td>18</td>\n",
              "      <td>16</td>\n",
              "      <td>4</td>\n",
              "      <td>13</td>\n",
              "      <td>0.06</td>\n",
              "      <td>10198</td>\n",
              "      <td>406</td>\n",
              "    </tr>\n",
              "    <tr>\n",
              "      <th>19</th>\n",
              "      <td>Mackay</td>\n",
              "      <td>2373</td>\n",
              "      <td>101</td>\n",
              "      <td>107</td>\n",
              "      <td>12</td>\n",
              "      <td>11</td>\n",
              "      <td>3</td>\n",
              "      <td>9</td>\n",
              "      <td>0.04</td>\n",
              "      <td>7698</td>\n",
              "      <td>166</td>\n",
              "    </tr>\n",
              "    <tr>\n",
              "      <th>20</th>\n",
              "      <td>Geraldton</td>\n",
              "      <td>2371</td>\n",
              "      <td>109</td>\n",
              "      <td>107</td>\n",
              "      <td>12</td>\n",
              "      <td>11</td>\n",
              "      <td>3</td>\n",
              "      <td>9</td>\n",
              "      <td>0.04</td>\n",
              "      <td>7688</td>\n",
              "      <td>327</td>\n",
              "    </tr>\n",
              "    <tr>\n",
              "      <th>21</th>\n",
              "      <td>Abbot Point</td>\n",
              "      <td>2059</td>\n",
              "      <td>105</td>\n",
              "      <td>95</td>\n",
              "      <td>11</td>\n",
              "      <td>10</td>\n",
              "      <td>3</td>\n",
              "      <td>9</td>\n",
              "      <td>0.04</td>\n",
              "      <td>6671</td>\n",
              "      <td>177</td>\n",
              "    </tr>\n",
              "    <tr>\n",
              "      <th>22</th>\n",
              "      <td>Burnie</td>\n",
              "      <td>1808</td>\n",
              "      <td>97</td>\n",
              "      <td>91</td>\n",
              "      <td>11</td>\n",
              "      <td>10</td>\n",
              "      <td>3</td>\n",
              "      <td>8</td>\n",
              "      <td>0.03</td>\n",
              "      <td>5855</td>\n",
              "      <td>329</td>\n",
              "    </tr>\n",
              "    <tr>\n",
              "      <th>23</th>\n",
              "      <td>Portland</td>\n",
              "      <td>1792</td>\n",
              "      <td>78</td>\n",
              "      <td>76</td>\n",
              "      <td>9</td>\n",
              "      <td>8</td>\n",
              "      <td>2</td>\n",
              "      <td>7</td>\n",
              "      <td>0.03</td>\n",
              "      <td>5815</td>\n",
              "      <td>261</td>\n",
              "    </tr>\n",
              "    <tr>\n",
              "      <th>24</th>\n",
              "      <td>Launceston</td>\n",
              "      <td>1645</td>\n",
              "      <td>77</td>\n",
              "      <td>72</td>\n",
              "      <td>8</td>\n",
              "      <td>8</td>\n",
              "      <td>2</td>\n",
              "      <td>6</td>\n",
              "      <td>0.03</td>\n",
              "      <td>5334</td>\n",
              "      <td>215</td>\n",
              "    </tr>\n",
              "    <tr>\n",
              "      <th>25</th>\n",
              "      <td>Hastings</td>\n",
              "      <td>1620</td>\n",
              "      <td>75</td>\n",
              "      <td>75</td>\n",
              "      <td>9</td>\n",
              "      <td>8</td>\n",
              "      <td>2</td>\n",
              "      <td>6</td>\n",
              "      <td>0.03</td>\n",
              "      <td>5258</td>\n",
              "      <td>129</td>\n",
              "    </tr>\n",
              "    <tr>\n",
              "      <th>26</th>\n",
              "      <td>Albany</td>\n",
              "      <td>1158</td>\n",
              "      <td>55</td>\n",
              "      <td>54</td>\n",
              "      <td>6</td>\n",
              "      <td>6</td>\n",
              "      <td>2</td>\n",
              "      <td>5</td>\n",
              "      <td>0.02</td>\n",
              "      <td>3754</td>\n",
              "      <td>107</td>\n",
              "    </tr>\n",
              "    <tr>\n",
              "      <th>27</th>\n",
              "      <td>Port Lincoln</td>\n",
              "      <td>1151</td>\n",
              "      <td>51</td>\n",
              "      <td>58</td>\n",
              "      <td>6</td>\n",
              "      <td>6</td>\n",
              "      <td>2</td>\n",
              "      <td>4</td>\n",
              "      <td>0.02</td>\n",
              "      <td>3734</td>\n",
              "      <td>114</td>\n",
              "    </tr>\n",
              "    <tr>\n",
              "      <th>28</th>\n",
              "      <td>Hobart</td>\n",
              "      <td>871</td>\n",
              "      <td>44</td>\n",
              "      <td>37</td>\n",
              "      <td>4</td>\n",
              "      <td>4</td>\n",
              "      <td>1</td>\n",
              "      <td>4</td>\n",
              "      <td>0.01</td>\n",
              "      <td>2821</td>\n",
              "      <td>51</td>\n",
              "    </tr>\n",
              "    <tr>\n",
              "      <th>29</th>\n",
              "      <td>Thevenard</td>\n",
              "      <td>703</td>\n",
              "      <td>33</td>\n",
              "      <td>32</td>\n",
              "      <td>4</td>\n",
              "      <td>3</td>\n",
              "      <td>1</td>\n",
              "      <td>3</td>\n",
              "      <td>0.01</td>\n",
              "      <td>2282</td>\n",
              "      <td>123</td>\n",
              "    </tr>\n",
              "    <tr>\n",
              "      <th>30</th>\n",
              "      <td>Broome</td>\n",
              "      <td>539</td>\n",
              "      <td>26</td>\n",
              "      <td>23</td>\n",
              "      <td>3</td>\n",
              "      <td>3</td>\n",
              "      <td>1</td>\n",
              "      <td>2</td>\n",
              "      <td>0.01</td>\n",
              "      <td>1744</td>\n",
              "      <td>193</td>\n",
              "    </tr>\n",
              "    <tr>\n",
              "      <th>31</th>\n",
              "      <td>Cape Flattery</td>\n",
              "      <td>506</td>\n",
              "      <td>28</td>\n",
              "      <td>26</td>\n",
              "      <td>3</td>\n",
              "      <td>3</td>\n",
              "      <td>1</td>\n",
              "      <td>2</td>\n",
              "      <td>0.01</td>\n",
              "      <td>1638</td>\n",
              "      <td>40</td>\n",
              "    </tr>\n",
              "    <tr>\n",
              "      <th>32</th>\n",
              "      <td>Esperance</td>\n",
              "      <td>445</td>\n",
              "      <td>18</td>\n",
              "      <td>22</td>\n",
              "      <td>2</td>\n",
              "      <td>2</td>\n",
              "      <td>1</td>\n",
              "      <td>2</td>\n",
              "      <td>0.01</td>\n",
              "      <td>1445</td>\n",
              "      <td>32</td>\n",
              "    </tr>\n",
              "    <tr>\n",
              "      <th>33</th>\n",
              "      <td>Port Alma</td>\n",
              "      <td>413</td>\n",
              "      <td>17</td>\n",
              "      <td>14</td>\n",
              "      <td>2</td>\n",
              "      <td>1</td>\n",
              "      <td>0</td>\n",
              "      <td>1</td>\n",
              "      <td>0.01</td>\n",
              "      <td>1341</td>\n",
              "      <td>75</td>\n",
              "    </tr>\n",
              "  </tbody>\n",
              "</table>\n",
              "</div>\n",
              "    <div class=\"colab-df-buttons\">\n",
              "\n",
              "  <div class=\"colab-df-container\">\n",
              "    <button class=\"colab-df-convert\" onclick=\"convertToInteractive('df-4df076f5-0d34-47bd-a890-e4b43c1310dc')\"\n",
              "            title=\"Convert this dataframe to an interactive table.\"\n",
              "            style=\"display:none;\">\n",
              "\n",
              "  <svg xmlns=\"http://www.w3.org/2000/svg\" height=\"24px\" viewBox=\"0 -960 960 960\">\n",
              "    <path d=\"M120-120v-720h720v720H120Zm60-500h600v-160H180v160Zm220 220h160v-160H400v160Zm0 220h160v-160H400v160ZM180-400h160v-160H180v160Zm440 0h160v-160H620v160ZM180-180h160v-160H180v160Zm440 0h160v-160H620v160Z\"/>\n",
              "  </svg>\n",
              "    </button>\n",
              "\n",
              "  <style>\n",
              "    .colab-df-container {\n",
              "      display:flex;\n",
              "      gap: 12px;\n",
              "    }\n",
              "\n",
              "    .colab-df-convert {\n",
              "      background-color: #E8F0FE;\n",
              "      border: none;\n",
              "      border-radius: 50%;\n",
              "      cursor: pointer;\n",
              "      display: none;\n",
              "      fill: #1967D2;\n",
              "      height: 32px;\n",
              "      padding: 0 0 0 0;\n",
              "      width: 32px;\n",
              "    }\n",
              "\n",
              "    .colab-df-convert:hover {\n",
              "      background-color: #E2EBFA;\n",
              "      box-shadow: 0px 1px 2px rgba(60, 64, 67, 0.3), 0px 1px 3px 1px rgba(60, 64, 67, 0.15);\n",
              "      fill: #174EA6;\n",
              "    }\n",
              "\n",
              "    .colab-df-buttons div {\n",
              "      margin-bottom: 4px;\n",
              "    }\n",
              "\n",
              "    [theme=dark] .colab-df-convert {\n",
              "      background-color: #3B4455;\n",
              "      fill: #D2E3FC;\n",
              "    }\n",
              "\n",
              "    [theme=dark] .colab-df-convert:hover {\n",
              "      background-color: #434B5C;\n",
              "      box-shadow: 0px 1px 3px 1px rgba(0, 0, 0, 0.15);\n",
              "      filter: drop-shadow(0px 1px 2px rgba(0, 0, 0, 0.3));\n",
              "      fill: #FFFFFF;\n",
              "    }\n",
              "  </style>\n",
              "\n",
              "    <script>\n",
              "      const buttonEl =\n",
              "        document.querySelector('#df-4df076f5-0d34-47bd-a890-e4b43c1310dc button.colab-df-convert');\n",
              "      buttonEl.style.display =\n",
              "        google.colab.kernel.accessAllowed ? 'block' : 'none';\n",
              "\n",
              "      async function convertToInteractive(key) {\n",
              "        const element = document.querySelector('#df-4df076f5-0d34-47bd-a890-e4b43c1310dc');\n",
              "        const dataTable =\n",
              "          await google.colab.kernel.invokeFunction('convertToInteractive',\n",
              "                                                    [key], {});\n",
              "        if (!dataTable) return;\n",
              "\n",
              "        const docLinkHtml = 'Like what you see? Visit the ' +\n",
              "          '<a target=\"_blank\" href=https://colab.research.google.com/notebooks/data_table.ipynb>data table notebook</a>'\n",
              "          + ' to learn more about interactive tables.';\n",
              "        element.innerHTML = '';\n",
              "        dataTable['output_type'] = 'display_data';\n",
              "        await google.colab.output.renderOutput(dataTable, element);\n",
              "        const docLink = document.createElement('div');\n",
              "        docLink.innerHTML = docLinkHtml;\n",
              "        element.appendChild(docLink);\n",
              "      }\n",
              "    </script>\n",
              "  </div>\n",
              "\n",
              "\n",
              "<div id=\"df-41c1ea64-d4ed-4091-a630-14a69343fa6b\">\n",
              "  <button class=\"colab-df-quickchart\" onclick=\"quickchart('df-41c1ea64-d4ed-4091-a630-14a69343fa6b')\"\n",
              "            title=\"Suggest charts\"\n",
              "            style=\"display:none;\">\n",
              "\n",
              "<svg xmlns=\"http://www.w3.org/2000/svg\" height=\"24px\"viewBox=\"0 0 24 24\"\n",
              "     width=\"24px\">\n",
              "    <g>\n",
              "        <path d=\"M19 3H5c-1.1 0-2 .9-2 2v14c0 1.1.9 2 2 2h14c1.1 0 2-.9 2-2V5c0-1.1-.9-2-2-2zM9 17H7v-7h2v7zm4 0h-2V7h2v10zm4 0h-2v-4h2v4z\"/>\n",
              "    </g>\n",
              "</svg>\n",
              "  </button>\n",
              "\n",
              "<style>\n",
              "  .colab-df-quickchart {\n",
              "      --bg-color: #E8F0FE;\n",
              "      --fill-color: #1967D2;\n",
              "      --hover-bg-color: #E2EBFA;\n",
              "      --hover-fill-color: #174EA6;\n",
              "      --disabled-fill-color: #AAA;\n",
              "      --disabled-bg-color: #DDD;\n",
              "  }\n",
              "\n",
              "  [theme=dark] .colab-df-quickchart {\n",
              "      --bg-color: #3B4455;\n",
              "      --fill-color: #D2E3FC;\n",
              "      --hover-bg-color: #434B5C;\n",
              "      --hover-fill-color: #FFFFFF;\n",
              "      --disabled-bg-color: #3B4455;\n",
              "      --disabled-fill-color: #666;\n",
              "  }\n",
              "\n",
              "  .colab-df-quickchart {\n",
              "    background-color: var(--bg-color);\n",
              "    border: none;\n",
              "    border-radius: 50%;\n",
              "    cursor: pointer;\n",
              "    display: none;\n",
              "    fill: var(--fill-color);\n",
              "    height: 32px;\n",
              "    padding: 0;\n",
              "    width: 32px;\n",
              "  }\n",
              "\n",
              "  .colab-df-quickchart:hover {\n",
              "    background-color: var(--hover-bg-color);\n",
              "    box-shadow: 0 1px 2px rgba(60, 64, 67, 0.3), 0 1px 3px 1px rgba(60, 64, 67, 0.15);\n",
              "    fill: var(--button-hover-fill-color);\n",
              "  }\n",
              "\n",
              "  .colab-df-quickchart-complete:disabled,\n",
              "  .colab-df-quickchart-complete:disabled:hover {\n",
              "    background-color: var(--disabled-bg-color);\n",
              "    fill: var(--disabled-fill-color);\n",
              "    box-shadow: none;\n",
              "  }\n",
              "\n",
              "  .colab-df-spinner {\n",
              "    border: 2px solid var(--fill-color);\n",
              "    border-color: transparent;\n",
              "    border-bottom-color: var(--fill-color);\n",
              "    animation:\n",
              "      spin 1s steps(1) infinite;\n",
              "  }\n",
              "\n",
              "  @keyframes spin {\n",
              "    0% {\n",
              "      border-color: transparent;\n",
              "      border-bottom-color: var(--fill-color);\n",
              "      border-left-color: var(--fill-color);\n",
              "    }\n",
              "    20% {\n",
              "      border-color: transparent;\n",
              "      border-left-color: var(--fill-color);\n",
              "      border-top-color: var(--fill-color);\n",
              "    }\n",
              "    30% {\n",
              "      border-color: transparent;\n",
              "      border-left-color: var(--fill-color);\n",
              "      border-top-color: var(--fill-color);\n",
              "      border-right-color: var(--fill-color);\n",
              "    }\n",
              "    40% {\n",
              "      border-color: transparent;\n",
              "      border-right-color: var(--fill-color);\n",
              "      border-top-color: var(--fill-color);\n",
              "    }\n",
              "    60% {\n",
              "      border-color: transparent;\n",
              "      border-right-color: var(--fill-color);\n",
              "    }\n",
              "    80% {\n",
              "      border-color: transparent;\n",
              "      border-right-color: var(--fill-color);\n",
              "      border-bottom-color: var(--fill-color);\n",
              "    }\n",
              "    90% {\n",
              "      border-color: transparent;\n",
              "      border-bottom-color: var(--fill-color);\n",
              "    }\n",
              "  }\n",
              "</style>\n",
              "\n",
              "  <script>\n",
              "    async function quickchart(key) {\n",
              "      const quickchartButtonEl =\n",
              "        document.querySelector('#' + key + ' button');\n",
              "      quickchartButtonEl.disabled = true;  // To prevent multiple clicks.\n",
              "      quickchartButtonEl.classList.add('colab-df-spinner');\n",
              "      try {\n",
              "        const charts = await google.colab.kernel.invokeFunction(\n",
              "            'suggestCharts', [key], {});\n",
              "      } catch (error) {\n",
              "        console.error('Error during call to suggestCharts:', error);\n",
              "      }\n",
              "      quickchartButtonEl.classList.remove('colab-df-spinner');\n",
              "      quickchartButtonEl.classList.add('colab-df-quickchart-complete');\n",
              "    }\n",
              "    (() => {\n",
              "      let quickchartButtonEl =\n",
              "        document.querySelector('#df-41c1ea64-d4ed-4091-a630-14a69343fa6b button');\n",
              "      quickchartButtonEl.style.display =\n",
              "        google.colab.kernel.accessAllowed ? 'block' : 'none';\n",
              "    })();\n",
              "  </script>\n",
              "</div>\n",
              "\n",
              "  <div id=\"id_679ed80c-cebc-4292-8e7b-10c6bc2c2d28\">\n",
              "    <style>\n",
              "      .colab-df-generate {\n",
              "        background-color: #E8F0FE;\n",
              "        border: none;\n",
              "        border-radius: 50%;\n",
              "        cursor: pointer;\n",
              "        display: none;\n",
              "        fill: #1967D2;\n",
              "        height: 32px;\n",
              "        padding: 0 0 0 0;\n",
              "        width: 32px;\n",
              "      }\n",
              "\n",
              "      .colab-df-generate:hover {\n",
              "        background-color: #E2EBFA;\n",
              "        box-shadow: 0px 1px 2px rgba(60, 64, 67, 0.3), 0px 1px 3px 1px rgba(60, 64, 67, 0.15);\n",
              "        fill: #174EA6;\n",
              "      }\n",
              "\n",
              "      [theme=dark] .colab-df-generate {\n",
              "        background-color: #3B4455;\n",
              "        fill: #D2E3FC;\n",
              "      }\n",
              "\n",
              "      [theme=dark] .colab-df-generate:hover {\n",
              "        background-color: #434B5C;\n",
              "        box-shadow: 0px 1px 3px 1px rgba(0, 0, 0, 0.15);\n",
              "        filter: drop-shadow(0px 1px 2px rgba(0, 0, 0, 0.3));\n",
              "        fill: #FFFFFF;\n",
              "      }\n",
              "    </style>\n",
              "    <button class=\"colab-df-generate\" onclick=\"generateWithVariable('port_emissions')\"\n",
              "            title=\"Generate code using this dataframe.\"\n",
              "            style=\"display:none;\">\n",
              "\n",
              "  <svg xmlns=\"http://www.w3.org/2000/svg\" height=\"24px\"viewBox=\"0 0 24 24\"\n",
              "       width=\"24px\">\n",
              "    <path d=\"M7,19H8.4L18.45,9,17,7.55,7,17.6ZM5,21V16.75L18.45,3.32a2,2,0,0,1,2.83,0l1.4,1.43a1.91,1.91,0,0,1,.58,1.4,1.91,1.91,0,0,1-.58,1.4L9.25,21ZM18.45,9,17,7.55Zm-12,3A5.31,5.31,0,0,0,4.9,8.1,5.31,5.31,0,0,0,1,6.5,5.31,5.31,0,0,0,4.9,4.9,5.31,5.31,0,0,0,6.5,1,5.31,5.31,0,0,0,8.1,4.9,5.31,5.31,0,0,0,12,6.5,5.46,5.46,0,0,0,6.5,12Z\"/>\n",
              "  </svg>\n",
              "    </button>\n",
              "    <script>\n",
              "      (() => {\n",
              "      const buttonEl =\n",
              "        document.querySelector('#id_679ed80c-cebc-4292-8e7b-10c6bc2c2d28 button.colab-df-generate');\n",
              "      buttonEl.style.display =\n",
              "        google.colab.kernel.accessAllowed ? 'block' : 'none';\n",
              "\n",
              "      buttonEl.onclick = () => {\n",
              "        google.colab.notebook.generateWithVariable('port_emissions');\n",
              "      }\n",
              "      })();\n",
              "    </script>\n",
              "  </div>\n",
              "\n",
              "    </div>\n",
              "  </div>\n"
            ],
            "application/vnd.google.colaboratory.intrinsic+json": {
              "type": "dataframe",
              "variable_name": "port_emissions",
              "summary": "{\n  \"name\": \"port_emissions\",\n  \"rows\": 34,\n  \"fields\": [\n    {\n      \"column\": \"Port\",\n      \"properties\": {\n        \"dtype\": \"string\",\n        \"num_unique_values\": 34,\n        \"samples\": [\n          \"Devonport\",\n          \"Mackay\",\n          \"Port Lincoln\"\n        ],\n        \"semantic_type\": \"\",\n        \"description\": \"\"\n      }\n    },\n    {\n      \"column\": \"Fuel\",\n      \"properties\": {\n        \"dtype\": \"number\",\n        \"std\": 19700,\n        \"min\": 413,\n        \"max\": 76383,\n        \"num_unique_values\": 34,\n        \"samples\": [\n          5632,\n          2373,\n          1151\n        ],\n        \"semantic_type\": \"\",\n        \"description\": \"\"\n      }\n    },\n    {\n      \"column\": \"NO_x\",\n      \"properties\": {\n        \"dtype\": \"number\",\n        \"std\": 1038,\n        \"min\": 17,\n        \"max\": 4375,\n        \"num_unique_values\": 34,\n        \"samples\": [\n          314,\n          101,\n          51\n        ],\n        \"semantic_type\": \"\",\n        \"description\": \"\"\n      }\n    },\n    {\n      \"column\": \"SO_2\",\n      \"properties\": {\n        \"dtype\": \"number\",\n        \"std\": 982,\n        \"min\": 14,\n        \"max\": 3940,\n        \"num_unique_values\": 33,\n        \"samples\": [\n          22,\n          293,\n          58\n        ],\n        \"semantic_type\": \"\",\n        \"description\": \"\"\n      }\n    },\n    {\n      \"column\": \"PM_10\",\n      \"properties\": {\n        \"dtype\": \"number\",\n        \"std\": 117,\n        \"min\": 2,\n        \"max\": 478,\n        \"num_unique_values\": 25,\n        \"samples\": [\n          47,\n          17,\n          478\n        ],\n        \"semantic_type\": \"\",\n        \"description\": \"\"\n      }\n    },\n    {\n      \"column\": \"PM_2.5\",\n      \"properties\": {\n        \"dtype\": \"number\",\n        \"std\": 107,\n        \"min\": 1,\n        \"max\": 440,\n        \"num_unique_values\": 26,\n        \"samples\": [\n          44,\n          15,\n          440\n        ],\n        \"semantic_type\": \"\",\n        \"description\": \"\"\n      }\n    },\n    {\n      \"column\": \"VOC\",\n      \"properties\": {\n        \"dtype\": \"number\",\n        \"std\": 26,\n        \"min\": 0,\n        \"max\": 99,\n        \"num_unique_values\": 20,\n        \"samples\": [\n          99,\n          2,\n          4\n        ],\n        \"semantic_type\": \"\",\n        \"description\": \"\"\n      }\n    },\n    {\n      \"column\": \"CO\",\n      \"properties\": {\n        \"dtype\": \"number\",\n        \"std\": 73,\n        \"min\": 1,\n        \"max\": 277,\n        \"num_unique_values\": 27,\n        \"samples\": [\n          50,\n          28,\n          52\n        ],\n        \"semantic_type\": \"\",\n        \"description\": \"\"\n      }\n    },\n    {\n      \"column\": \"PAH\",\n      \"properties\": {\n        \"dtype\": \"number\",\n        \"std\": 0.360337656069223,\n        \"min\": 0.01,\n        \"max\": 1.45,\n        \"num_unique_values\": 20,\n        \"samples\": [\n          1.45,\n          0.03,\n          0.05\n        ],\n        \"semantic_type\": \"\",\n        \"description\": \"\"\n      }\n    },\n    {\n      \"column\": \"CO_2e\",\n      \"properties\": {\n        \"dtype\": \"number\",\n        \"std\": 63869,\n        \"min\": 1341,\n        \"max\": 247618,\n        \"num_unique_values\": 34,\n        \"samples\": [\n          18242,\n          7698,\n          3734\n        ],\n        \"semantic_type\": \"\",\n        \"description\": \"\"\n      }\n    },\n    {\n      \"column\": \"BerthVisits\",\n      \"properties\": {\n        \"dtype\": \"number\",\n        \"std\": 887,\n        \"min\": 32,\n        \"max\": 3821,\n        \"num_unique_values\": 34,\n        \"samples\": [\n          605,\n          166,\n          114\n        ],\n        \"semantic_type\": \"\",\n        \"description\": \"\"\n      }\n    }\n  ]\n}"
            }
          },
          "metadata": {},
          "execution_count": 32
        }
      ]
    },
    {
      "cell_type": "code",
      "source": [
        "x = \"BerthVisits\"\n",
        "y = \"CO_2e\"\n",
        "plt.scatter(port_emissions[x], port_emissions[y])\n",
        "plt.xlabel(x)\n",
        "plt.ylabel(y)"
      ],
      "metadata": {
        "colab": {
          "base_uri": "https://localhost:8080/",
          "height": 467
        },
        "id": "YadW-JHH8N6U",
        "outputId": "50365f9d-1fc6-43e3-c6c7-069c983b757a"
      },
      "execution_count": 33,
      "outputs": [
        {
          "output_type": "execute_result",
          "data": {
            "text/plain": [
              "Text(0, 0.5, 'CO_2e')"
            ]
          },
          "metadata": {},
          "execution_count": 33
        },
        {
          "output_type": "display_data",
          "data": {
            "text/plain": [
              "<Figure size 640x480 with 1 Axes>"
            ],
            "image/png": "[encoded data removed]"
          },
          "metadata": {}
        }
      ]
    },
    {
      "cell_type": "markdown",
      "source": [
        "Because there is not very much data at the top right, it is hard to say what the best model to try first will be. I will try a normal likelihood with a linear model first."
      ],
      "metadata": {
        "id": "lYqevvONR1N3"
      }
    },
    {
      "cell_type": "code",
      "source": [
        "with pm.Model() as model:\n",
        "    α = pm.Normal(\"α\", mu=0, sigma=3)\n",
        "    β = pm.Normal(\"β\", mu=0, sigma=10)\n",
        "    σ = pm.HalfNormal(\"σ\", 1)\n",
        "\n",
        "    μ = pm.Deterministic(\"μ\", α + β * port_emissions[x]) # linear part of the model\n",
        "\n",
        "    y = pm.Normal(\"y_pred\", # normal variation away from the line\n",
        "                  mu=μ,\n",
        "                  sigma=σ,\n",
        "                  observed=port_emissions[y])\n",
        "    data = pm.sample()"
      ],
      "metadata": {
        "colab": {
          "base_uri": "https://localhost:8080/",
          "height": 50,
          "referenced_widgets": [
            "98df27e6dc4b4a20adbe25fb5a32b260",
            "bed42352b0c24e8e85e60d00d1addff5",
            "fddd5d3feb5d447b8f550da4bc6bb392",
            "92011090dd05416992f96904719560da"
          ]
        },
        "id": "d_H_64Rp8lni",
        "outputId": "e43e4a0b-03b3-475b-f7ae-c21e2319e5a9"
      },
      "execution_count": 34,
      "outputs": [
        {
          "output_type": "display_data",
          "data": {
            "text/plain": [
              "Output()"
            ],
            "application/vnd.jupyter.widget-view+json": {
              "version_major": 2,
              "version_minor": 0,
              "model_id": "98df27e6dc4b4a20adbe25fb5a32b260"
            }
          },
          "metadata": {}
        },
        {
          "output_type": "display_data",
          "data": {
            "text/plain": [],
            "text/html": [
              "<pre style=\"white-space:pre;overflow-x:auto;line-height:normal;font-family:Menlo,'DejaVu Sans Mono',consolas,'Courier New',monospace\"></pre>\n"
            ]
          },
          "metadata": {}
        },
        {
          "output_type": "display_data",
          "data": {
            "text/plain": [
              "Output()"
            ],
            "application/vnd.jupyter.widget-view+json": {
              "version_major": 2,
              "version_minor": 0,
              "model_id": "fddd5d3feb5d447b8f550da4bc6bb392"
            }
          },
          "metadata": {}
        },
        {
          "output_type": "display_data",
          "data": {
            "text/plain": [],
            "text/html": [
              "<pre style=\"white-space:pre;overflow-x:auto;line-height:normal;font-family:Menlo,'DejaVu Sans Mono',consolas,'Courier New',monospace\"></pre>\n"
            ]
          },
          "metadata": {}
        }
      ]
    },
    {
      "cell_type": "code",
      "source": [
        "# graph line\n",
        "_, ax = plt.subplots()\n",
        "\n",
        "ax.plot(port_emissions[\"BerthVisits\"], port_emissions[\"CO_2e\"], \"C0.\", alpha=0.1)\n",
        "\n",
        "posterior = az.extract(data)\n",
        "\n",
        "μ_m = np.sort(posterior[\"μ\"].mean(\"sample\").values) # sort to make the line connect points in the correct order (same with sorts below)\n",
        "σ_m = posterior[\"σ\"].mean(\"sample\").values\n",
        "\n",
        "ax.plot(np.sort(port_emissions[x]), μ_m, c=\"k\")\n",
        "ax.fill_between(np.sort(port_emissions[x]), μ_m + 30 * σ_m, μ_m - 30 * σ_m, alpha=0.6, color=\"C1\")\n",
        "ax.fill_between(np.sort(port_emissions[x]), μ_m + 60 * σ_m, μ_m - 60 * σ_m, alpha=0.4, color=\"C1\")\n",
        "\n",
        "ax.set_xlabel(x)\n",
        "ax.set_ylabel(y)"
      ],
      "metadata": {
        "colab": {
          "base_uri": "https://localhost:8080/",
          "height": 467
        },
        "id": "hHXFXOtW-8gL",
        "outputId": "94726d28-3382-44cd-a1be-4fa423cc98bf"
      },
      "execution_count": 35,
      "outputs": [
        {
          "output_type": "execute_result",
          "data": {
            "text/plain": [
              "Text(0, 0.5, 'y_pred')"
            ]
          },
          "metadata": {},
          "execution_count": 35
        },
        {
          "output_type": "display_data",
          "data": {
            "text/plain": [
              "<Figure size 640x480 with 1 Axes>"
            ],
            "image/png": "[encoded data removed]"
          },
          "metadata": {}
        }
      ]
    },
    {
      "cell_type": "code",
      "source": [
        "pm.sample_posterior_predictive(data, model=model, extend_inferencedata=True) # sample posterior predictive\n",
        "az.plot_ppc(data, num_pp_samples=200, colors=[\"C1\", \"C0\", \"C1\"]) # graph posterior predictive check"
      ],
      "metadata": {
        "colab": {
          "base_uri": "https://localhost:8080/",
          "height": 495,
          "referenced_widgets": [
            "209bf3a0595546faba3b9303955a9863",
            "f3e34cc6f8de4a0da3c75b6262d10c6f"
          ]
        },
        "id": "4Aevi4t3ACsR",
        "outputId": "ccefac22-d45c-4338-8fea-de9ba00f0baf"
      },
      "execution_count": 36,
      "outputs": [
        {
          "output_type": "display_data",
          "data": {
            "text/plain": [
              "Output()"
            ],
            "application/vnd.jupyter.widget-view+json": {
              "version_major": 2,
              "version_minor": 0,
              "model_id": "209bf3a0595546faba3b9303955a9863"
            }
          },
          "metadata": {}
        },
        {
          "output_type": "display_data",
          "data": {
            "text/plain": [],
            "text/html": [
              "<pre style=\"white-space:pre;overflow-x:auto;line-height:normal;font-family:Menlo,'DejaVu Sans Mono',consolas,'Courier New',monospace\"></pre>\n"
            ]
          },
          "metadata": {}
        },
        {
          "output_type": "execute_result",
          "data": {
            "text/plain": [
              "<Axes: xlabel='y_pred'>"
            ]
          },
          "metadata": {},
          "execution_count": 36
        },
        {
          "output_type": "display_data",
          "data": {
            "text/plain": [
              "<Figure size 640x480 with 1 Axes>"
            ],
            "image/png": "[encoded data removed]"
          },
          "metadata": {}
        }
      ]
    },
    {
      "cell_type": "markdown",
      "source": [
        "This model is fine, but I don't think it captures the convex shape of the data in the bottom left, which is where most of the data is. I think normal variation away from the line is working well enough. The posterior predictive check also shows a relatively close, but not perfect, match. I will try squaring the number of berth visits to create a quadratic shaped function that should model the bottom left more closely."
      ],
      "metadata": {
        "id": "HcorjqmWU0Rm"
      }
    },
    {
      "cell_type": "code",
      "source": [
        "with pm.Model() as model:\n",
        "    α = pm.Normal(\"α\", mu=0, sigma=3)\n",
        "    β = pm.Normal(\"β\", mu=0, sigma=10)\n",
        "    σ = pm.HalfNormal(\"σ\", 1)\n",
        "\n",
        "    μ = pm.Deterministic(\"μ\", α + β * pm.math.sqr(port_emissions[\"BerthVisits\"])) # linear model with squared berth visits values\n",
        "\n",
        "    y = pm.Normal(\"y_pred\",\n",
        "                  mu=μ,\n",
        "                  sigma=σ,\n",
        "                  observed=port_emissions[\"CO_2e\"]) # normal likelihood\n",
        "    data = pm.sample()"
      ],
      "metadata": {
        "colab": {
          "base_uri": "https://localhost:8080/",
          "height": 50,
          "referenced_widgets": [
            "4b0cc514c0944c00a9f98d232543955c",
            "36279e5007474a9986d52c9b11d0d008",
            "2f8a373dd3c74512b0b5af10b18170f0",
            "3eaa4a6953d540bdbf52e2c6b7091228"
          ]
        },
        "id": "u9rziIu7KDkN",
        "outputId": "4f53f500-d2f1-446f-ba2b-34b522e7d432"
      },
      "execution_count": 37,
      "outputs": [
        {
          "output_type": "display_data",
          "data": {
            "text/plain": [
              "Output()"
            ],
            "application/vnd.jupyter.widget-view+json": {
              "version_major": 2,
              "version_minor": 0,
              "model_id": "4b0cc514c0944c00a9f98d232543955c"
            }
          },
          "metadata": {}
        },
        {
          "output_type": "display_data",
          "data": {
            "text/plain": [],
            "text/html": [
              "<pre style=\"white-space:pre;overflow-x:auto;line-height:normal;font-family:Menlo,'DejaVu Sans Mono',consolas,'Courier New',monospace\"></pre>\n"
            ]
          },
          "metadata": {}
        },
        {
          "output_type": "display_data",
          "data": {
            "text/plain": [
              "Output()"
            ],
            "application/vnd.jupyter.widget-view+json": {
              "version_major": 2,
              "version_minor": 0,
              "model_id": "2f8a373dd3c74512b0b5af10b18170f0"
            }
          },
          "metadata": {}
        },
        {
          "output_type": "display_data",
          "data": {
            "text/plain": [],
            "text/html": [
              "<pre style=\"white-space:pre;overflow-x:auto;line-height:normal;font-family:Menlo,'DejaVu Sans Mono',consolas,'Courier New',monospace\"></pre>\n"
            ]
          },
          "metadata": {}
        }
      ]
    },
    {
      "cell_type": "code",
      "source": [
        "# graph line\n",
        "_, ax = plt.subplots()\n",
        "\n",
        "ax.plot(port_emissions[\"BerthVisits\"], port_emissions[\"CO_2e\"], \"C0.\", alpha=0.1)\n",
        "\n",
        "posterior = az.extract(data)\n",
        "\n",
        "μ_m = np.sort(posterior[\"μ\"].mean(\"sample\").values) # sort to make the line connect points in the correct order (same with sorts below)\n",
        "σ_m = posterior[\"σ\"].mean(\"sample\").values\n",
        "\n",
        "ax.plot(np.sort(port_emissions[x]), μ_m, c=\"k\")\n",
        "ax.fill_between(np.sort(port_emissions[x]), μ_m + 30 * σ_m, μ_m - 30 * σ_m, alpha=0.6, color=\"C1\")\n",
        "ax.fill_between(np.sort(port_emissions[x]), μ_m + 60 * σ_m, μ_m - 60 * σ_m, alpha=0.4, color=\"C1\")\n",
        "\n",
        "ax.set_xlabel(x)\n",
        "ax.set_ylabel(y)"
      ],
      "metadata": {
        "colab": {
          "base_uri": "https://localhost:8080/",
          "height": 467
        },
        "id": "D1_qLLLNKdaq",
        "outputId": "005f6e88-f7ae-49c5-9118-e88aa69d43e6"
      },
      "execution_count": 38,
      "outputs": [
        {
          "output_type": "execute_result",
          "data": {
            "text/plain": [
              "Text(0, 0.5, 'y_pred')"
            ]
          },
          "metadata": {},
          "execution_count": 38
        },
        {
          "output_type": "display_data",
          "data": {
            "text/plain": [
              "<Figure size 640x480 with 1 Axes>"
            ],
            "image/png": "[encoded data removed]"
          },
          "metadata": {}
        }
      ]
    },
    {
      "cell_type": "code",
      "source": [
        "pm.sample_posterior_predictive(data, model=model, extend_inferencedata=True) # sample posterior predictive\n",
        "az.plot_ppc(data, num_pp_samples=200, colors=[\"C1\", \"C0\", \"C1\"]) # graph posterior predictive check"
      ],
      "metadata": {
        "colab": {
          "base_uri": "https://localhost:8080/",
          "height": 495,
          "referenced_widgets": [
            "8f26ddcbafca4fce99a752faaa9655ee",
            "12bebdd3eed74bfa9b60e1e1cbeddb3c"
          ]
        },
        "id": "MwpNvVV4M8x3",
        "outputId": "f0cc8940-9ac7-4cea-f576-c7f3eda239c4"
      },
      "execution_count": 39,
      "outputs": [
        {
          "output_type": "display_data",
          "data": {
            "text/plain": [
              "Output()"
            ],
            "application/vnd.jupyter.widget-view+json": {
              "version_major": 2,
              "version_minor": 0,
              "model_id": "8f26ddcbafca4fce99a752faaa9655ee"
            }
          },
          "metadata": {}
        },
        {
          "output_type": "display_data",
          "data": {
            "text/plain": [],
            "text/html": [
              "<pre style=\"white-space:pre;overflow-x:auto;line-height:normal;font-family:Menlo,'DejaVu Sans Mono',consolas,'Courier New',monospace\"></pre>\n"
            ]
          },
          "metadata": {}
        },
        {
          "output_type": "execute_result",
          "data": {
            "text/plain": [
              "<Axes: xlabel='y_pred'>"
            ]
          },
          "metadata": {},
          "execution_count": 39
        },
        {
          "output_type": "display_data",
          "data": {
            "text/plain": [
              "<Figure size 640x480 with 1 Axes>"
            ],
            "image/png": "[encoded data removed]"
          },
          "metadata": {}
        }
      ]
    },
    {
      "cell_type": "markdown",
      "source": [
        "I think this posterior predictive check matches about as well as the previous model. The other graph, however, models the data more accurately. Neither captures the top right. outliers super well, but this one is better with the bulk of the data in the bottom left. Additionally, I think the quadratic shape more accurately models the underlying process. Because this dataset is limited to Australia, it lacks a lot of data on large ports, but I would expect them to have more large ships. This is because larger ships are probably too large for many smaller ports and they require more demand for shipping that only larger ports would have."
      ],
      "metadata": {
        "id": "1RGWFmZLZZxA"
      }
    }
  ]
}