{
  "nbformat": 4,
  "nbformat_minor": 0,
  "metadata": {
    "colab": {
      "provenance": [],
      "authorship_tag": "ABX9TyPexTbjFlpW15s1GowrbSug",
      "include_colab_link": true
    },
    "kernelspec": {
      "name": "python3",
      "display_name": "Python 3"
    },
    "language_info": {
      "name": "python"
    }
  },
  "cells": [
    {
      "cell_type": "markdown",
      "metadata": {
        "id": "view-in-github",
        "colab_type": "text"
      },
      "source": [
        "<a href=\"https://colab.research.google.com/github/justinwickelgren/data-science-class/blob/main/JustWickU2proj.ipynb\" target=\"_parent\"><img src=\"https://colab.research.google.com/assets/colab-badge.svg\" alt=\"Open In Colab\"/></a>"
      ]
    },
    {
      "cell_type": "code",
      "source": [
        "!pip install preliz"
      ],
      "metadata": {
        "colab": {
          "base_uri": "https://localhost:8080/"
        },
        "id": "f-hIcRVHtUTB",
        "outputId": "d431e86f-1642-4866-f52c-8b4c81a7dc4c",
        "collapsed": true
      },
      "execution_count": 1,
      "outputs": [
        {
          "output_type": "stream",
          "name": "stdout",
          "text": [
            "Requirement already satisfied: preliz in /usr/local/lib/python3.10/dist-packages (0.9.1)\n",
            "Requirement already satisfied: arviz in /usr/local/lib/python3.10/dist-packages (from preliz) (0.18.0)\n",
            "Requirement already satisfied: matplotlib>=3.5 in /usr/local/lib/python3.10/dist-packages (from preliz) (3.7.1)\n",
            "Requirement already satisfied: numba>=0.59 in /usr/local/lib/python3.10/dist-packages (from preliz) (0.60.0)\n",
            "Requirement already satisfied: numpy>=1.22 in /usr/local/lib/python3.10/dist-packages (from preliz) (1.26.4)\n",
            "Requirement already satisfied: scipy<1.13,>=1.9.1 in /usr/local/lib/python3.10/dist-packages (from preliz) (1.12.0)\n",
            "Requirement already satisfied: contourpy>=1.0.1 in /usr/local/lib/python3.10/dist-packages (from matplotlib>=3.5->preliz) (1.3.0)\n",
            "Requirement already satisfied: cycler>=0.10 in /usr/local/lib/python3.10/dist-packages (from matplotlib>=3.5->preliz) (0.12.1)\n",
            "Requirement already satisfied: fonttools>=4.22.0 in /usr/local/lib/python3.10/dist-packages (from matplotlib>=3.5->preliz) (4.53.1)\n",
            "Requirement already satisfied: kiwisolver>=1.0.1 in /usr/local/lib/python3.10/dist-packages (from matplotlib>=3.5->preliz) (1.4.7)\n",
            "Requirement already satisfied: packaging>=20.0 in /usr/local/lib/python3.10/dist-packages (from matplotlib>=3.5->preliz) (24.1)\n",
            "Requirement already satisfied: pillow>=6.2.0 in /usr/local/lib/python3.10/dist-packages (from matplotlib>=3.5->preliz) (9.4.0)\n",
            "Requirement already satisfied: pyparsing>=2.3.1 in /usr/local/lib/python3.10/dist-packages (from matplotlib>=3.5->preliz) (3.1.4)\n",
            "Requirement already satisfied: python-dateutil>=2.7 in /usr/local/lib/python3.10/dist-packages (from matplotlib>=3.5->preliz) (2.8.2)\n",
            "Requirement already satisfied: llvmlite<0.44,>=0.43.0dev0 in /usr/local/lib/python3.10/dist-packages (from numba>=0.59->preliz) (0.43.0)\n",
            "Requirement already satisfied: setuptools>=60.0.0 in /usr/local/lib/python3.10/dist-packages (from arviz->preliz) (71.0.4)\n",
            "Requirement already satisfied: pandas>=1.5.0 in /usr/local/lib/python3.10/dist-packages (from arviz->preliz) (2.1.4)\n",
            "Requirement already satisfied: dm-tree>=0.1.8 in /usr/local/lib/python3.10/dist-packages (from arviz->preliz) (0.1.8)\n",
            "Requirement already satisfied: xarray>=2022.6.0 in /usr/local/lib/python3.10/dist-packages (from arviz->preliz) (2024.6.0)\n",
            "Requirement already satisfied: h5netcdf>=1.0.2 in /usr/local/lib/python3.10/dist-packages (from arviz->preliz) (1.3.0)\n",
            "Requirement already satisfied: typing-extensions>=4.1.0 in /usr/local/lib/python3.10/dist-packages (from arviz->preliz) (4.12.2)\n",
            "Requirement already satisfied: xarray-einstats>=0.3 in /usr/local/lib/python3.10/dist-packages (from arviz->preliz) (0.7.0)\n",
            "Requirement already satisfied: h5py in /usr/local/lib/python3.10/dist-packages (from h5netcdf>=1.0.2->arviz->preliz) (3.11.0)\n",
            "Requirement already satisfied: pytz>=2020.1 in /usr/local/lib/python3.10/dist-packages (from pandas>=1.5.0->arviz->preliz) (2024.1)\n",
            "Requirement already satisfied: tzdata>=2022.1 in /usr/local/lib/python3.10/dist-packages (from pandas>=1.5.0->arviz->preliz) (2024.1)\n",
            "Requirement already satisfied: six>=1.5 in /usr/local/lib/python3.10/dist-packages (from python-dateutil>=2.7->matplotlib>=3.5->preliz) (1.16.0)\n"
          ]
        }
      ]
    },
    {
      "cell_type": "code",
      "execution_count": 2,
      "metadata": {
        "id": "e2mSHD8yi-qJ"
      },
      "outputs": [],
      "source": [
        "# import required libraries\n",
        "import preliz as pz # for plot of prior\n",
        "import pymc as pm # for model\n",
        "import arviz as az # for plot of posterior\n",
        "import numpy as np # for data array"
      ]
    },
    {
      "cell_type": "markdown",
      "source": [
        "# Presidential Popular Vote\n",
        "This project will attempt to predict the winner of the 2024 Presidential popular vote. It will not consider the electoral college (and whenever I say \"win\" or \"loss\" for an election I mean popular vote). This is interesting because, in my opnion, the popular vote is a more accurate representation of who the country wants as president than the electoral college, even though it doesn't actually decide the election. The prior will be based on my own opinion about this particular election, and the data will be the 10 most recent presidential election results.\n",
        "\n",
        "### Prior and Assumptions\n",
        "I will make assumptions about this election to determine the prior. First, I think that Democrats are more likely to win the popular vote than the electoral college, so I will give Kamala Harris a higher chance than I would for winning the election. Second, I think that the election will be quite close because the country is very polarized. Third, I think Harris is at a disadvantage because she has to defend Joe Biden's relatively unpopular term and entered the race late. Fourth, the election is still two months away and Harris' late entry increases uncertainty, so my prior will be relatively uncertain. Therefore, I will give Harris a 67% chance to win as the prior."
      ],
      "metadata": {
        "id": "FbznXvKzjgNz"
      }
    },
    {
      "cell_type": "code",
      "source": [
        "# Beta distribution for model with alpha and beta values set to achieve around 62% mean/median and relatively high uncertainty\n",
        "prior = pz.Beta(alpha=10,beta=5)\n",
        "prior.plot_pdf()"
      ],
      "metadata": {
        "colab": {
          "base_uri": "https://localhost:8080/",
          "height": 448
        },
        "id": "2erSYXTYwVBy",
        "outputId": "d15321bc-35ea-406f-d223-c341284611e9"
      },
      "execution_count": 3,
      "outputs": [
        {
          "output_type": "execute_result",
          "data": {
            "text/plain": [
              "<Axes: >"
            ]
          },
          "metadata": {},
          "execution_count": 3
        },
        {
          "output_type": "display_data",
          "data": {
            "text/plain": [
              "<Figure size 640x480 with 1 Axes>"
            ],
            "image/png": "[encoded data removed]"
          },
          "metadata": {}
        }
      ]
    },
    {
      "cell_type": "code",
      "source": [
        "# print mean and median\n",
        "prior.mean(), prior.median()"
      ],
      "metadata": {
        "colab": {
          "base_uri": "https://localhost:8080/"
        },
        "id": "1ITRDF9WxFD9",
        "outputId": "fc8642a7-de7f-487e-abbd-9aa73d9002c9"
      },
      "execution_count": 4,
      "outputs": [
        {
          "output_type": "execute_result",
          "data": {
            "text/plain": [
              "(0.6666666666666666, 0.6742488447338502)"
            ]
          },
          "metadata": {},
          "execution_count": 4
        }
      ]
    },
    {
      "cell_type": "markdown",
      "source": [
        "Above is a visualization of the Beta distribution that will be the prior. It has a mean and median around 67%, and it is uncertain wide, so it is a fairly good representation of my assumptions for the prior."
      ],
      "metadata": {
        "id": "n7XqPNrK7KGO"
      }
    },
    {
      "cell_type": "markdown",
      "source": [
        "### Data\n",
        "The data we will use is the last 10 presidential elections. While more data would be nice, the farther into the past the data is, the less relevant it is to our current political environment, so I have chosen to stop in 1984. A 0 will represent a Republican win, and a 1 will represent a Democratic win. Here are the 10 elections that will form the data:\n",
        "\n",
        "1 (2020) <br>\n",
        "1 (2016) <br>\n",
        "1 (2012) <br>\n",
        "1 (2008) <br>\n",
        "0 (2004) <br>\n",
        "1 (2000) <br>\n",
        "1 (1996) <br>\n",
        "1 (1992) <br>\n",
        "0 (1988) <br>\n",
        "0 (1984)"
      ],
      "metadata": {
        "id": "BwWfIS931tN4"
      }
    },
    {
      "cell_type": "markdown",
      "source": [
        "These can then be put into a Numpy array for the model to use."
      ],
      "metadata": {
        "id": "HL0P1MEM7l6v"
      }
    },
    {
      "cell_type": "code",
      "source": [
        "data = np.array([1, 1, 1, 1, 0, 1, 1, 1, 0, 0]) # numpy array for data"
      ],
      "metadata": {
        "id": "qzY1sWxo5c6F"
      },
      "execution_count": 5,
      "outputs": []
    },
    {
      "cell_type": "markdown",
      "source": [
        "### Posterior\n",
        "To form our posterior, I will remake the Beta distribution prior with pymc (instead of preliz). Then, we will update it with our likelihood, in the form of a Bernoulli distribution and sample 1000 data points from our posterior."
      ],
      "metadata": {
        "id": "9dPyE2-c7q2I"
      }
    },
    {
      "cell_type": "code",
      "source": [
        "with pm.Model() as model:\n",
        "  θ = pm.Beta('θ' , alpha = 8. , beta = 5.) # create beta distribution for prior\n",
        "  y =  pm.Bernoulli('y', p=θ, observed=data) # create Bernoulli distribution for likelihood\n",
        "  sample = pm.sample(1000) # sample 1000 data points from posterior"
      ],
      "metadata": {
        "colab": {
          "base_uri": "https://localhost:8080/",
          "height": 57
        },
        "id": "rzMgYFr_5E1e",
        "outputId": "4800fb75-b534-4a10-a69f-5b23b95a0da8"
      },
      "execution_count": 6,
      "outputs": [
        {
          "output_type": "display_data",
          "data": {
            "text/plain": [
              "<IPython.core.display.HTML object>"
            ],
            "text/html": [
              "\n",
              "<style>\n",
              "    /* Turns off some styling */\n",
              "    progress {\n",
              "        /* gets rid of default border in Firefox and Opera. */\n",
              "        border: none;\n",
              "        /* Needs to be in here for Safari polyfill so background images work as expected. */\n",
              "        background-size: auto;\n",
              "    }\n",
              "    progress:not([value]), progress:not([value])::-webkit-progress-bar {\n",
              "        background: repeating-linear-gradient(45deg, #7e7e7e, #7e7e7e 10px, #5c5c5c 10px, #5c5c5c 20px);\n",
              "    }\n",
              "    .progress-bar-interrupted, .progress-bar-interrupted::-webkit-progress-bar {\n",
              "        background: #F44336;\n",
              "    }\n",
              "</style>\n"
            ]
          },
          "metadata": {}
        },
        {
          "output_type": "display_data",
          "data": {
            "text/plain": [
              "<IPython.core.display.HTML object>"
            ],
            "text/html": [
              "\n",
              "    <div>\n",
              "      <progress value='2000' class='' max='2000' style='width:300px; height:20px; vertical-align: middle;'></progress>\n",
              "      100.00% [2000/2000 00:02&lt;00:00 Sampling chain 0, 0 divergences]\n",
              "    </div>\n",
              "    "
            ]
          },
          "metadata": {}
        },
        {
          "output_type": "display_data",
          "data": {
            "text/plain": [
              "<IPython.core.display.HTML object>"
            ],
            "text/html": [
              "\n",
              "<style>\n",
              "    /* Turns off some styling */\n",
              "    progress {\n",
              "        /* gets rid of default border in Firefox and Opera. */\n",
              "        border: none;\n",
              "        /* Needs to be in here for Safari polyfill so background images work as expected. */\n",
              "        background-size: auto;\n",
              "    }\n",
              "    progress:not([value]), progress:not([value])::-webkit-progress-bar {\n",
              "        background: repeating-linear-gradient(45deg, #7e7e7e, #7e7e7e 10px, #5c5c5c 10px, #5c5c5c 20px);\n",
              "    }\n",
              "    .progress-bar-interrupted, .progress-bar-interrupted::-webkit-progress-bar {\n",
              "        background: #F44336;\n",
              "    }\n",
              "</style>\n"
            ]
          },
          "metadata": {}
        },
        {
          "output_type": "display_data",
          "data": {
            "text/plain": [
              "<IPython.core.display.HTML object>"
            ],
            "text/html": [
              "\n",
              "    <div>\n",
              "      <progress value='2000' class='' max='2000' style='width:300px; height:20px; vertical-align: middle;'></progress>\n",
              "      100.00% [2000/2000 00:03&lt;00:00 Sampling chain 1, 0 divergences]\n",
              "    </div>\n",
              "    "
            ]
          },
          "metadata": {}
        }
      ]
    },
    {
      "cell_type": "code",
      "source": [
        "az.plot_posterior(sample) # graph posterior"
      ],
      "metadata": {
        "colab": {
          "base_uri": "https://localhost:8080/",
          "height": 476
        },
        "id": "8vnLta6S4fKv",
        "outputId": "13bcc289-f0de-483c-d140-4861c9ade6d7"
      },
      "execution_count": 7,
      "outputs": [
        {
          "output_type": "execute_result",
          "data": {
            "text/plain": [
              "<Axes: title={'center': 'θ'}>"
            ]
          },
          "metadata": {},
          "execution_count": 7
        },
        {
          "output_type": "display_data",
          "data": {
            "text/plain": [
              "<Figure size 640x480 with 1 Axes>"
            ],
            "image/png": "[encoded data removed]"
          },
          "metadata": {}
        }
      ]
    },
    {
      "cell_type": "markdown",
      "source": [
        "Looking at the above plot of the posterior, we can see that the mean has decreased slightly, so our posterior has a better chance for Trump than our prior did. I expected a relatively small change because the data is quite similar to the prior. While the change is small, the decrease is not surprising since I think that Harris has a slightly better chance than the average Democrat in the past 40 years."
      ],
      "metadata": {
        "id": "4WP8hI5u8ic5"
      }
    },
    {
      "cell_type": "markdown",
      "source": [
        "We will now use our model to predict a series of outcomes:"
      ],
      "metadata": {
        "id": "24hUeMMt8zyR"
      }
    },
    {
      "cell_type": "code",
      "source": [
        "pm.sample_posterior_predictive(sample, model=model, extend_inferencedata=True) # sample from posterior\n",
        "stacked_model = az.extract(sample, group=\"posterior_predictive\") # stack the models\n",
        "stacked_model.sel(sample=0).sel(draw=0).y.to_series().values # output 10 simulated results"
      ],
      "metadata": {
        "colab": {
          "base_uri": "https://localhost:8080/",
          "height": 55
        },
        "id": "11Ur9tsq6Lqe",
        "outputId": "08e7ce22-cdee-4b6d-c196-47918b7cac8c"
      },
      "execution_count": 8,
      "outputs": [
        {
          "output_type": "display_data",
          "data": {
            "text/plain": [
              "<IPython.core.display.HTML object>"
            ],
            "text/html": [
              "\n",
              "<style>\n",
              "    /* Turns off some styling */\n",
              "    progress {\n",
              "        /* gets rid of default border in Firefox and Opera. */\n",
              "        border: none;\n",
              "        /* Needs to be in here for Safari polyfill so background images work as expected. */\n",
              "        background-size: auto;\n",
              "    }\n",
              "    progress:not([value]), progress:not([value])::-webkit-progress-bar {\n",
              "        background: repeating-linear-gradient(45deg, #7e7e7e, #7e7e7e 10px, #5c5c5c 10px, #5c5c5c 20px);\n",
              "    }\n",
              "    .progress-bar-interrupted, .progress-bar-interrupted::-webkit-progress-bar {\n",
              "        background: #F44336;\n",
              "    }\n",
              "</style>\n"
            ]
          },
          "metadata": {}
        },
        {
          "output_type": "display_data",
          "data": {
            "text/plain": [
              "<IPython.core.display.HTML object>"
            ],
            "text/html": [
              "\n",
              "    <div>\n",
              "      <progress value='2000' class='' max='2000' style='width:300px; height:20px; vertical-align: middle;'></progress>\n",
              "      100.00% [2000/2000 00:00&lt;00:00]\n",
              "    </div>\n",
              "    "
            ]
          },
          "metadata": {}
        },
        {
          "output_type": "execute_result",
          "data": {
            "text/plain": [
              "array([1, 1, 1, 0, 1, 0, 0, 1, 1, 0])"
            ]
          },
          "metadata": {},
          "execution_count": 8
        }
      ]
    },
    {
      "cell_type": "markdown",
      "source": [
        "Thus, the model predicts that Harris will win the popular vote 6 out of 10 times."
      ],
      "metadata": {
        "id": "IHSCSlDH9Nxz"
      }
    }
  ]
}